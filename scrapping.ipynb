{
 "cells": [
  {
   "cell_type": "code",
   "execution_count": 1,
   "metadata": {},
   "outputs": [],
   "source": [
    "from bs4 import BeautifulSoup\n",
    "import requests\n",
    "import pandas as pd\n",
    "import numpy as np"
   ]
  },
  {
   "cell_type": "code",
   "execution_count": 2,
   "metadata": {},
   "outputs": [],
   "source": [
    "# https://lol.fandom.com/wiki/LEC/2022_Season/Spring_Season/Match_History"
   ]
  },
  {
   "cell_type": "markdown",
   "metadata": {},
   "source": [
    "### Request match data"
   ]
  },
  {
   "cell_type": "code",
   "execution_count": 3,
   "metadata": {},
   "outputs": [],
   "source": [
    "headers = {\"User-Agent\": \"Mozilla/5.0 (Windows NT 10.0; Win64; x64) AppleWebKit/537.36 (KHTML, like Gecko) Chrome/70.0.3538.110 Safari/537.36\"}\n",
    "html = requests.get(\"https://gol.gg/game/stats/44359/page-summary/\", headers=headers).content\n",
    "soup = BeautifulSoup(html, 'html.parser')"
   ]
  },
  {
   "cell_type": "code",
   "execution_count": 4,
   "metadata": {},
   "outputs": [],
   "source": [
    "# print(soup.prettify())\n",
    "\n",
    "# How find divs in parser\n",
    "# https://linuxpip.org/beautifulsoup-find-an-element-by-class/"
   ]
  },
  {
   "cell_type": "markdown",
   "metadata": {},
   "source": [
    "### Name of teams in the match"
   ]
  },
  {
   "cell_type": "code",
   "execution_count": 5,
   "metadata": {},
   "outputs": [
    {
     "data": {
      "text/plain": [
       "'CTBC Flying Oyster'"
      ]
     },
     "execution_count": 5,
     "metadata": {},
     "output_type": "execute_result"
    }
   ],
   "source": [
    "#Team blue side\n",
    "soup.find(\"div\", class_=\"row rowbreak fond-main-cadre p-4\").find_all(\"div\", class_=\"col-4 col-sm-5 text-center\")[0].get_text()\n",
    "\n",
    "#Team red side\n",
    "soup.find(\"div\", class_=\"row rowbreak fond-main-cadre p-4\").find_all(\"div\", class_=\"col-4 col-sm-5 text-center\")[1].get_text()"
   ]
  },
  {
   "cell_type": "markdown",
   "metadata": {},
   "source": [
    "### Champions Banned and Picked"
   ]
  },
  {
   "cell_type": "code",
   "execution_count": 6,
   "metadata": {},
   "outputs": [],
   "source": [
    "#First 5 is the banned champions for blue side\n",
    "#Last 5 picke champions for blue side\n",
    "blue_champs = soup.find(\"div\", class_=\"row rowbreak fond-main-cadre p-4\").find_all(\"div\", class_=\"col-4 col-sm-5 text-center\")[2].find_all(\"img\")\n",
    "\n",
    "#Same for the red side\n",
    "red_champs = soup.find(\"div\", class_=\"row rowbreak fond-main-cadre p-4\").find_all(\"div\", class_=\"col-4 col-sm-5 text-center\")[3].find_all(\"img\")"
   ]
  },
  {
   "cell_type": "code",
   "execution_count": 27,
   "metadata": {},
   "outputs": [],
   "source": [
    "lst_blue_champs = []\n",
    "for champ in blue_champs:\n",
    "    lst_blue_champs.append(champ[\"src\"].split('/')[-1].split('.')[0])\n",
    "\n",
    "lst_red_champs = []\n",
    "for champ in red_champs:\n",
    "    lst_red_champs.append(champ[\"src\"].split('/')[-1].split('.')[0])"
   ]
  },
  {
   "cell_type": "code",
   "execution_count": 28,
   "metadata": {},
   "outputs": [],
   "source": [
    "# picks and bans of blue side\n",
    "blue_banned = lst_blue_champs[:5]\n",
    "blue_piked = lst_blue_champs[5:]"
   ]
  },
  {
   "cell_type": "code",
   "execution_count": 29,
   "metadata": {},
   "outputs": [],
   "source": [
    "#picks and bans of red side\n",
    "red_banned = lst_red_champs[:5]\n",
    "red_piked = lst_red_champs[5:]"
   ]
  },
  {
   "cell_type": "code",
   "execution_count": null,
   "metadata": {},
   "outputs": [],
   "source": []
  },
  {
   "cell_type": "markdown",
   "metadata": {},
   "source": [
    "### Team Stats (Kills, Towers, Dragons and Barons)"
   ]
  },
  {
   "cell_type": "code",
   "execution_count": 10,
   "metadata": {},
   "outputs": [
    {
     "name": "stdout",
     "output_type": "stream",
     "text": [
      "25\n",
      "7\n",
      "4\n",
      "1\n",
      "10\n",
      "4\n",
      "1\n",
      "1\n"
     ]
    }
   ],
   "source": [
    "#Ordem of prints, Kills, Towers, Dragons, Barons\n",
    "\n",
    "#For blue team\n",
    "for i in soup.find_all(\"div\", class_=\"col-12 col-sm-6 pb-4\")[0].find_all(\"span\", class_=\"score-box\"):\n",
    "    #Keep only numbers in the string\n",
    "    print(int(''.join(filter(str.isdigit, i.get_text()))))\n",
    "\n",
    "#For red team\n",
    "for i in soup.find_all(\"div\", class_=\"col-12 col-sm-6 pb-4\")[1].find_all(\"span\", class_=\"score-box\"):\n",
    "    #Keep only numbers in the string\n",
    "    print(int(''.join(filter(str.isdigit, i.get_text()))))"
   ]
  },
  {
   "cell_type": "markdown",
   "metadata": {},
   "source": [
    "### KDA of teams"
   ]
  },
  {
   "cell_type": "code",
   "execution_count": 11,
   "metadata": {},
   "outputs": [],
   "source": [
    "#Find all tables and get the first(blue side)\n",
    "# soup.find_all('table')[1]"
   ]
  },
  {
   "cell_type": "code",
   "execution_count": 12,
   "metadata": {},
   "outputs": [],
   "source": [
    "#Get the KDA of each team\n",
    "table = soup.find_all(\"table\", \"table_list trhover\")[1]\n",
    "row_marker = 0\n",
    "table_data = []\n",
    "\n",
    "#lopp for each row in the table\n",
    "for row in table.find_all('tr'):\n",
    "    column_marker = 0\n",
    "    column_data = []\n",
    "    columns = row.find_all('td')\n",
    "\n",
    "    #extract info for each collum and save in the list\n",
    "    for column in columns:\n",
    "        column_data.append(column.get_text())\n",
    "    table_data.append(column_data)"
   ]
  },
  {
   "cell_type": "code",
   "execution_count": 13,
   "metadata": {},
   "outputs": [
    {
     "data": {
      "text/plain": [
       "[['Rest', '3/3/2 (1.7)', '8.4', '570', '0.31'],\n",
       " ['Gemini', '0/4/8 (2.0)', '4.6', '246', '0.71'],\n",
       " ['Mission', '4/3/3 (2.3)', '8.7', '731', '0.43'],\n",
       " ['Shunn', '1/7/5 (0.9)', '8.6', '382', '0.51'],\n",
       " ['Koala', '2/8/4 (0.8)', '1.2', '213', '3.00']]"
      ]
     },
     "execution_count": 13,
     "metadata": {},
     "output_type": "execute_result"
    }
   ],
   "source": [
    "table_data = table_data[1:]\n",
    "table_data"
   ]
  },
  {
   "cell_type": "code",
   "execution_count": 14,
   "metadata": {},
   "outputs": [
    {
     "data": {
      "text/html": [
       "<div>\n",
       "<style scoped>\n",
       "    .dataframe tbody tr th:only-of-type {\n",
       "        vertical-align: middle;\n",
       "    }\n",
       "\n",
       "    .dataframe tbody tr th {\n",
       "        vertical-align: top;\n",
       "    }\n",
       "\n",
       "    .dataframe thead th {\n",
       "        text-align: right;\n",
       "    }\n",
       "</style>\n",
       "<table border=\"1\" class=\"dataframe\">\n",
       "  <thead>\n",
       "    <tr style=\"text-align: right;\">\n",
       "      <th></th>\n",
       "      <th>player</th>\n",
       "      <th>kda</th>\n",
       "      <th>csM</th>\n",
       "      <th>dpM</th>\n",
       "      <th>wpM</th>\n",
       "    </tr>\n",
       "  </thead>\n",
       "  <tbody>\n",
       "    <tr>\n",
       "      <th>0</th>\n",
       "      <td>Rest</td>\n",
       "      <td>3/3/2 (1.7)</td>\n",
       "      <td>8.4</td>\n",
       "      <td>570</td>\n",
       "      <td>0.31</td>\n",
       "    </tr>\n",
       "    <tr>\n",
       "      <th>1</th>\n",
       "      <td>Gemini</td>\n",
       "      <td>0/4/8 (2.0)</td>\n",
       "      <td>4.6</td>\n",
       "      <td>246</td>\n",
       "      <td>0.71</td>\n",
       "    </tr>\n",
       "    <tr>\n",
       "      <th>2</th>\n",
       "      <td>Mission</td>\n",
       "      <td>4/3/3 (2.3)</td>\n",
       "      <td>8.7</td>\n",
       "      <td>731</td>\n",
       "      <td>0.43</td>\n",
       "    </tr>\n",
       "    <tr>\n",
       "      <th>3</th>\n",
       "      <td>Shunn</td>\n",
       "      <td>1/7/5 (0.9)</td>\n",
       "      <td>8.6</td>\n",
       "      <td>382</td>\n",
       "      <td>0.51</td>\n",
       "    </tr>\n",
       "    <tr>\n",
       "      <th>4</th>\n",
       "      <td>Koala</td>\n",
       "      <td>2/8/4 (0.8)</td>\n",
       "      <td>1.2</td>\n",
       "      <td>213</td>\n",
       "      <td>3.00</td>\n",
       "    </tr>\n",
       "  </tbody>\n",
       "</table>\n",
       "</div>"
      ],
      "text/plain": [
       "    player          kda  csM  dpM   wpM\n",
       "0     Rest  3/3/2 (1.7)  8.4  570  0.31\n",
       "1   Gemini  0/4/8 (2.0)  4.6  246  0.71\n",
       "2  Mission  4/3/3 (2.3)  8.7  731  0.43\n",
       "3    Shunn  1/7/5 (0.9)  8.6  382  0.51\n",
       "4    Koala  2/8/4 (0.8)  1.2  213  3.00"
      ]
     },
     "execution_count": 14,
     "metadata": {},
     "output_type": "execute_result"
    }
   ],
   "source": [
    "df_kda = pd.DataFrame(table_data,columns=['player', 'kda', 'csM', 'dpM','wpM'])\n",
    "df_kda"
   ]
  },
  {
   "cell_type": "code",
   "execution_count": 15,
   "metadata": {},
   "outputs": [],
   "source": [
    "def player_kda(row):\n",
    "    kills, deaths, other = row.split('/')\n",
    "    assists = other.split(' ')[0]\n",
    "    if int(deaths) > 0:\n",
    "        kda = (int(kills) + int(assists))/int(deaths)\n",
    "    else:\n",
    "        kda = (int(kills) + int(assists))\n",
    "        \n",
    "    return round(kda, 2)\n"
   ]
  },
  {
   "cell_type": "code",
   "execution_count": 16,
   "metadata": {},
   "outputs": [],
   "source": [
    "df_kda['kda'] = df_kda.apply(lambda x: player_kda(x['kda']),axis=1)"
   ]
  },
  {
   "cell_type": "code",
   "execution_count": 17,
   "metadata": {},
   "outputs": [
    {
     "data": {
      "text/html": [
       "<div>\n",
       "<style scoped>\n",
       "    .dataframe tbody tr th:only-of-type {\n",
       "        vertical-align: middle;\n",
       "    }\n",
       "\n",
       "    .dataframe tbody tr th {\n",
       "        vertical-align: top;\n",
       "    }\n",
       "\n",
       "    .dataframe thead th {\n",
       "        text-align: right;\n",
       "    }\n",
       "</style>\n",
       "<table border=\"1\" class=\"dataframe\">\n",
       "  <thead>\n",
       "    <tr style=\"text-align: right;\">\n",
       "      <th></th>\n",
       "      <th>player</th>\n",
       "      <th>kda</th>\n",
       "      <th>csM</th>\n",
       "      <th>dpM</th>\n",
       "      <th>wpM</th>\n",
       "    </tr>\n",
       "  </thead>\n",
       "  <tbody>\n",
       "    <tr>\n",
       "      <th>0</th>\n",
       "      <td>Rest</td>\n",
       "      <td>1.67</td>\n",
       "      <td>8.4</td>\n",
       "      <td>570</td>\n",
       "      <td>0.31</td>\n",
       "    </tr>\n",
       "    <tr>\n",
       "      <th>1</th>\n",
       "      <td>Gemini</td>\n",
       "      <td>2.00</td>\n",
       "      <td>4.6</td>\n",
       "      <td>246</td>\n",
       "      <td>0.71</td>\n",
       "    </tr>\n",
       "    <tr>\n",
       "      <th>2</th>\n",
       "      <td>Mission</td>\n",
       "      <td>2.33</td>\n",
       "      <td>8.7</td>\n",
       "      <td>731</td>\n",
       "      <td>0.43</td>\n",
       "    </tr>\n",
       "    <tr>\n",
       "      <th>3</th>\n",
       "      <td>Shunn</td>\n",
       "      <td>0.86</td>\n",
       "      <td>8.6</td>\n",
       "      <td>382</td>\n",
       "      <td>0.51</td>\n",
       "    </tr>\n",
       "    <tr>\n",
       "      <th>4</th>\n",
       "      <td>Koala</td>\n",
       "      <td>0.75</td>\n",
       "      <td>1.2</td>\n",
       "      <td>213</td>\n",
       "      <td>3.00</td>\n",
       "    </tr>\n",
       "  </tbody>\n",
       "</table>\n",
       "</div>"
      ],
      "text/plain": [
       "    player   kda  csM  dpM   wpM\n",
       "0     Rest  1.67  8.4  570  0.31\n",
       "1   Gemini  2.00  4.6  246  0.71\n",
       "2  Mission  2.33  8.7  731  0.43\n",
       "3    Shunn  0.86  8.6  382  0.51\n",
       "4    Koala  0.75  1.2  213  3.00"
      ]
     },
     "execution_count": 17,
     "metadata": {},
     "output_type": "execute_result"
    }
   ],
   "source": [
    "df_kda"
   ]
  }
 ],
 "metadata": {
  "kernelspec": {
   "display_name": "Python 3.10.6 ('lol')",
   "language": "python",
   "name": "python3"
  },
  "language_info": {
   "codemirror_mode": {
    "name": "ipython",
    "version": 3
   },
   "file_extension": ".py",
   "mimetype": "text/x-python",
   "name": "python",
   "nbconvert_exporter": "python",
   "pygments_lexer": "ipython3",
   "version": "3.10.6"
  },
  "orig_nbformat": 4,
  "vscode": {
   "interpreter": {
    "hash": "10c87da467fcbb63cac37fd56cb93e5bc20dee0ff3d3dc9bb44db59686591e1a"
   }
  }
 },
 "nbformat": 4,
 "nbformat_minor": 2
}
