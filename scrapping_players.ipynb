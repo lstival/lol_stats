{
 "cells": [
  {
   "cell_type": "code",
   "execution_count": 1,
   "metadata": {},
   "outputs": [],
   "source": [
    "from bs4 import BeautifulSoup\n",
    "import requests\n",
    "import pandas as pd\n",
    "import numpy as np"
   ]
  },
  {
   "cell_type": "code",
   "execution_count": null,
   "metadata": {},
   "outputs": [],
   "source": []
  },
  {
   "cell_type": "markdown",
   "metadata": {},
   "source": [
    "### Reading the Players"
   ]
  },
  {
   "cell_type": "code",
   "execution_count": 2,
   "metadata": {},
   "outputs": [],
   "source": [
    "#Read all champions info\n",
    "headers = {\"User-Agent\": \"Mozilla/5.0 (Windows NT 10.0; Win64; x64) AppleWebKit/537.36 (KHTML, like Gecko) Chrome/70.0.3538.110 Safari/537.36\"}\n",
    "html = requests.get(\"https://gol.gg/players/list/season-S12/split-Summer/tournament-ALL/\", headers=headers).content\n",
    "soup = BeautifulSoup(html, 'html.parser')"
   ]
  },
  {
   "cell_type": "code",
   "execution_count": 3,
   "metadata": {},
   "outputs": [],
   "source": [
    "#Get the main table of page (with all champions and statics)\n",
    "table = soup.find_all(\"table\", class_=\"table_list\")[0]"
   ]
  },
  {
   "cell_type": "code",
   "execution_count": 4,
   "metadata": {},
   "outputs": [],
   "source": [
    "#Get the name of collumns\n",
    "table_columns = []\n",
    "for i in table.find_all('th'):\n",
    "    table_columns.append(i.getText())"
   ]
  },
  {
   "cell_type": "code",
   "execution_count": 5,
   "metadata": {},
   "outputs": [],
   "source": [
    "row_marker = 0\n",
    "table_data = []\n",
    "\n",
    "#lopp for each row in the table\n",
    "for row in table.find_all('tr'):\n",
    "    column_marker = 0\n",
    "    column_data = []\n",
    "    columns = row.find_all('td')\n",
    "\n",
    "    #extract info for each collum and save in the list\n",
    "    for column in columns:\n",
    "        column_data.append(column.get_text())\n",
    "    table_data.append(column_data)"
   ]
  },
  {
   "cell_type": "code",
   "execution_count": 7,
   "metadata": {},
   "outputs": [],
   "source": [
    "table_data = table_data[1:]"
   ]
  },
  {
   "cell_type": "code",
   "execution_count": 9,
   "metadata": {},
   "outputs": [],
   "source": [
    "df_players = pd.DataFrame(table_data, columns=table_columns)"
   ]
  },
  {
   "cell_type": "code",
   "execution_count": 15,
   "metadata": {},
   "outputs": [
    {
     "name": "stderr",
     "output_type": "stream",
     "text": [
      "C:\\Users\\stiva\\AppData\\Local\\Temp\\ipykernel_14792\\2360238304.py:2: FutureWarning: In a future version of pandas all arguments of DataFrame.drop except for the argument 'labels' will be keyword-only.\n",
      "  df_players.sort_values(by=\"Player\").reset_index().drop('index',1).to_csv(\"data/players.csv\")\n"
     ]
    }
   ],
   "source": [
    "#Saving the list of champs with stats of games\n",
    "df_players.sort_values(by=\"Player\").reset_index().drop('index',1).to_csv(\"data/players.csv\")"
   ]
  }
 ],
 "metadata": {
  "kernelspec": {
   "display_name": "Python 3.10.6 ('lol')",
   "language": "python",
   "name": "python3"
  },
  "language_info": {
   "codemirror_mode": {
    "name": "ipython",
    "version": 3
   },
   "file_extension": ".py",
   "mimetype": "text/x-python",
   "name": "python",
   "nbconvert_exporter": "python",
   "pygments_lexer": "ipython3",
   "version": "3.10.6"
  },
  "orig_nbformat": 4,
  "vscode": {
   "interpreter": {
    "hash": "10c87da467fcbb63cac37fd56cb93e5bc20dee0ff3d3dc9bb44db59686591e1a"
   }
  }
 },
 "nbformat": 4,
 "nbformat_minor": 2
}
