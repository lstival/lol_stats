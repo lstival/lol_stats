{
 "cells": [
  {
   "cell_type": "code",
   "execution_count": 1,
   "metadata": {},
   "outputs": [],
   "source": [
    "from bs4 import BeautifulSoup\n",
    "import requests\n",
    "import pandas as pd\n",
    "import numpy as np\n",
    "from datetime import datetime"
   ]
  },
  {
   "cell_type": "code",
   "execution_count": 2,
   "metadata": {},
   "outputs": [],
   "source": [
    "# https://lol.fandom.com/wiki/LEC/2022_Season/Spring_Season/Match_History"
   ]
  },
  {
   "cell_type": "code",
   "execution_count": 3,
   "metadata": {},
   "outputs": [],
   "source": [
    "math_list = r\"https://gol.gg/tournament/tournament-matchlist/CBLOL%20Split%201%202023/\""
   ]
  },
  {
   "cell_type": "markdown",
   "metadata": {},
   "source": [
    "### Request match data"
   ]
  },
  {
   "cell_type": "code",
   "execution_count": 4,
   "metadata": {},
   "outputs": [],
   "source": [
    "headers = {\"User-Agent\": \"Mozilla/5.0 (Windows NT 10.0; Win64; x64) AppleWebKit/537.36 (KHTML, like Gecko) Chrome/70.0.3538.110 Safari/537.36\"}\n",
    "html = requests.get(\"https://gol.gg/game/stats/44921/page-summary/\", headers=headers).content\n",
    "soup = BeautifulSoup(html, 'html.parser')"
   ]
  },
  {
   "cell_type": "code",
   "execution_count": 5,
   "metadata": {},
   "outputs": [],
   "source": [
    "# print(soup.prettify())\n",
    "\n",
    "# How find divs in parser\n",
    "# https://linuxpip.org/beautifulsoup-find-an-element-by-class/"
   ]
  },
  {
   "cell_type": "markdown",
   "metadata": {},
   "source": [
    "### Name of teams in the match"
   ]
  },
  {
   "cell_type": "code",
   "execution_count": 6,
   "metadata": {},
   "outputs": [],
   "source": [
    "#Team blue side\n",
    "blue_team = soup.find(\"div\", class_=\"row rowbreak fond-main-cadre p-4\").find_all(\"div\", class_=\"col-4 col-sm-5 text-center\")[0].get_text()\n",
    "blue_result = soup.find(\"div\", class_=\"row rowbreak fond-main-cadre p-4\").find_all(\"div\", class_=\"col-4 col-sm-5 text-center\")[2].find(\"h1\").get_text()\n",
    "\n",
    "#Team red side\n",
    "red_team = soup.find(\"div\", class_=\"row rowbreak fond-main-cadre p-4\").find_all(\"div\", class_=\"col-4 col-sm-5 text-center\")[1].get_text()\n",
    "red_result = soup.find(\"div\", class_=\"row rowbreak fond-main-cadre p-4\").find_all(\"div\", class_=\"col-4 col-sm-5 text-center\")[3].find(\"h1\").get_text()"
   ]
  },
  {
   "cell_type": "code",
   "execution_count": null,
   "metadata": {},
   "outputs": [],
   "source": []
  },
  {
   "attachments": {},
   "cell_type": "markdown",
   "metadata": {},
   "source": [
    "### Duration of the match (minutes, seconds)"
   ]
  },
  {
   "cell_type": "code",
   "execution_count": 7,
   "metadata": {},
   "outputs": [
    {
     "data": {
      "text/plain": [
       "datetime.time(0, 35, 9)"
      ]
     },
     "execution_count": 7,
     "metadata": {},
     "output_type": "execute_result"
    }
   ],
   "source": [
    "# Match time\n",
    "match_time = datetime.strptime(soup.find(\"div\", class_=\"col-4 col-sm-2 text-center align-middle right-side-win\").find_all(\"h1\")[0].get_text(), '%M:%S').time()\n",
    "match_time"
   ]
  },
  {
   "cell_type": "markdown",
   "metadata": {},
   "source": [
    "### Champions Banned and Picked"
   ]
  },
  {
   "cell_type": "code",
   "execution_count": 8,
   "metadata": {},
   "outputs": [],
   "source": [
    "#First 5 is the banned champions for blue side\n",
    "#Last 5 picke champions for blue side\n",
    "blue_champs = soup.find(\"div\", class_=\"row rowbreak fond-main-cadre p-4\").find_all(\"div\", class_=\"col-4 col-sm-5 text-center\")[2].find_all(\"img\")\n",
    "\n",
    "#Same for the red side\n",
    "red_champs = soup.find(\"div\", class_=\"row rowbreak fond-main-cadre p-4\").find_all(\"div\", class_=\"col-4 col-sm-5 text-center\")[3].find_all(\"img\")"
   ]
  },
  {
   "cell_type": "code",
   "execution_count": 9,
   "metadata": {},
   "outputs": [],
   "source": [
    "lst_blue_champs = []\n",
    "for champ in blue_champs:\n",
    "    lst_blue_champs.append(champ[\"src\"].split('/')[-1].split('.')[0])\n",
    "\n",
    "lst_red_champs = []\n",
    "for champ in red_champs:\n",
    "    lst_red_champs.append(champ[\"src\"].split('/')[-1].split('.')[0])"
   ]
  },
  {
   "cell_type": "code",
   "execution_count": 10,
   "metadata": {},
   "outputs": [],
   "source": [
    "# picks and bans of blue side\n",
    "blue_banned = lst_blue_champs[:5]\n",
    "blue_piked = lst_blue_champs[5:]"
   ]
  },
  {
   "cell_type": "code",
   "execution_count": 11,
   "metadata": {},
   "outputs": [],
   "source": [
    "#picks and bans of red side\n",
    "red_banned = lst_red_champs[:5]\n",
    "red_piked = lst_red_champs[5:]"
   ]
  },
  {
   "cell_type": "code",
   "execution_count": null,
   "metadata": {},
   "outputs": [],
   "source": []
  },
  {
   "cell_type": "markdown",
   "metadata": {},
   "source": [
    "### Team Stats (Kills, Towers, Dragons and Barons)"
   ]
  },
  {
   "cell_type": "code",
   "execution_count": 12,
   "metadata": {},
   "outputs": [],
   "source": [
    "#Ordem of prints, Kills, Towers, Dragons, Barons\n",
    "\n",
    "#list of stats of each team\n",
    "blue_stats = []\n",
    "red_stats = []\n",
    "#For blue team\n",
    "\n",
    "for i in soup.find_all(\"div\", class_=\"col-12 col-sm-6 pb-4\")[0].find_all(\"span\", class_=\"score-box\"):\n",
    "    #Keep only numbers in the string\n",
    "    blue_stats.append(int(''.join(filter(str.isdigit, i.get_text()))))\n",
    "\n",
    "#For red team\n",
    "for i in soup.find_all(\"div\", class_=\"col-12 col-sm-6 pb-4\")[1].find_all(\"span\", class_=\"score-box\"):\n",
    "    #Keep only numbers in the string\n",
    "    red_stats.append(int(''.join(filter(str.isdigit, i.get_text()))))"
   ]
  },
  {
   "cell_type": "code",
   "execution_count": 13,
   "metadata": {},
   "outputs": [
    {
     "name": "stdout",
     "output_type": "stream",
     "text": [
      "[11, 4, 3, 0]\n",
      "[19, 10, 2, 1]\n"
     ]
    }
   ],
   "source": [
    "def get_team_stats(stats, team):\n",
    "    dct_team = {}\n",
    "    dct_team[f\"kills_{team}\"] = stats[0]\n",
    "    dct_team[f\"towers_{team}\"] = stats[1]\n",
    "    dct_team[f\"dragons_{team}\"] = stats[2]\n",
    "    dct_team[f\"barons_{team}\"] = stats[3]\n",
    "\n",
    "    return dct_team\n",
    "\n",
    "print(blue_stats)\n",
    "print(red_stats)\n"
   ]
  },
  {
   "cell_type": "markdown",
   "metadata": {},
   "source": [
    "### KDA of teams"
   ]
  },
  {
   "cell_type": "code",
   "execution_count": 14,
   "metadata": {},
   "outputs": [],
   "source": [
    "#Find all tables and get the first(blue side)\n",
    "# soup.find_all('table')[1]"
   ]
  },
  {
   "cell_type": "code",
   "execution_count": 15,
   "metadata": {},
   "outputs": [],
   "source": [
    "def player_kda(row):\n",
    "    \"\"\"\n",
    "    row: line with data with kills, deaths and assists of each player\n",
    "\n",
    "    return the KDA rounded to 2 decimals\n",
    "    \"\"\"\n",
    "    kills, deaths, other = row.split('/')\n",
    "    assists = other.split(' ')[0]\n",
    "    if int(deaths) > 0:\n",
    "        kda = (int(kills) + int(assists))/int(deaths)\n",
    "    else:\n",
    "        kda = (int(kills) + int(assists))\n",
    "        \n",
    "    return round(kda, 2)"
   ]
  },
  {
   "cell_type": "code",
   "execution_count": 16,
   "metadata": {},
   "outputs": [],
   "source": [
    "def get_team_kda(team):\n",
    "\n",
    "    if team == \"blue\":\n",
    "        idx = 0\n",
    "    else:\n",
    "        idx = 1\n",
    "        \n",
    "\n",
    "    #Get the KDA of each team\n",
    "    table = soup.find_all(\"table\", \"table_list trhover\")[int(idx)]\n",
    "    row_marker = 0\n",
    "    table_data = []\n",
    "\n",
    "    #lopp for each row in the table\n",
    "    for row in table.find_all('tr'):\n",
    "        column_marker = 0\n",
    "        column_data = []\n",
    "        columns = row.find_all('td')\n",
    "\n",
    "        #extract info for each collum and save in the list\n",
    "        for column in columns:\n",
    "            column_data.append(column.get_text())\n",
    "        table_data.append(column_data)\n",
    "\n",
    "    table_data = table_data[1:]\n",
    "\n",
    "    df_kda = pd.DataFrame(table_data,columns=['player', 'kda', 'csM', 'dpM','wpM'])\n",
    "    df_kda.dropna(inplace=True)\n",
    "\n",
    "    #Apply the function KDA and replace the single values for the metric\n",
    "    df_kda['kda'] = df_kda.apply(lambda x: player_kda(x['kda']),axis=1)\n",
    "\n",
    "    return df_kda\n"
   ]
  },
  {
   "cell_type": "code",
   "execution_count": null,
   "metadata": {},
   "outputs": [],
   "source": []
  },
  {
   "attachments": {},
   "cell_type": "markdown",
   "metadata": {},
   "source": [
    "### Join data blue team"
   ]
  },
  {
   "cell_type": "code",
   "execution_count": 17,
   "metadata": {},
   "outputs": [
    {
     "data": {
      "text/plain": [
       "{'team_blue': 'Fluxo',\n",
       " 'result_blue': 'LOSS',\n",
       " 'ban_0_blue': 'Jayce',\n",
       " 'ban_1_blue': 'Maokai',\n",
       " 'ban_2_blue': 'Ashe',\n",
       " 'ban_3_blue': 'Renekton',\n",
       " 'ban_4_blue': 'Viktor',\n",
       " 'pick_0_blue': 'Zac',\n",
       " 'pick_1_blue': 'Wukong',\n",
       " 'pick_2_blue': 'Akali',\n",
       " 'pick_3_blue': 'Zeri',\n",
       " 'pick_4_blue': 'Lulu',\n",
       " 'kills_blue': 11,\n",
       " 'towers_blue': 4,\n",
       " 'dragons_blue': 3,\n",
       " 'barons_blue': 0,\n",
       " 'player_0_blue': 'Tay',\n",
       " 'kda_0_blue': 1.67,\n",
       " 'csM_0_blue': '6.1',\n",
       " 'dpM_0_blue': '378',\n",
       " 'wpM_0_blue': '0.28',\n",
       " 'player_1_blue': 'Disamis',\n",
       " 'kda_1_blue': 4.5,\n",
       " 'csM_1_blue': '5.1',\n",
       " 'dpM_1_blue': '381',\n",
       " 'wpM_1_blue': '0.31',\n",
       " 'player_2_blue': 'Hauz',\n",
       " 'kda_2_blue': 2.0,\n",
       " 'csM_2_blue': '7.4',\n",
       " 'dpM_2_blue': '532',\n",
       " 'wpM_2_blue': '0.28',\n",
       " 'player_3_blue': 'Brance',\n",
       " 'kda_3_blue': 1.33,\n",
       " 'csM_3_blue': '9.6',\n",
       " 'dpM_3_blue': '937',\n",
       " 'wpM_3_blue': '0.34',\n",
       " 'player_4_blue': 'JoJo',\n",
       " 'kda_4_blue': 3.0,\n",
       " 'csM_4_blue': '0.5',\n",
       " 'dpM_4_blue': '197',\n",
       " 'wpM_4_blue': '1.59'}"
      ]
     },
     "execution_count": 17,
     "metadata": {},
     "output_type": "execute_result"
    }
   ],
   "source": [
    "# dict with blue team data\n",
    "blue_team_data = {}\n",
    "\n",
    "team = \"blue\"\n",
    "\n",
    "# team name\n",
    "blue_team_data[f\"team_{team}\"] = blue_team\n",
    "\n",
    "# info. if team win or lost\n",
    "blue_team_data[f\"result_{team}\"] = blue_result\n",
    "\n",
    "# bans of team\n",
    "for idx, ban in enumerate(blue_banned):\n",
    "    blue_team_data[f\"ban_{idx}_{team}\"] = ban\n",
    "\n",
    "# picks of team\n",
    "for idx, pick in enumerate(blue_piked):\n",
    "    blue_team_data[f\"pick_{idx}_{team}\"] = pick\n",
    "\n",
    "# kills, towers, drgans and barons\n",
    "blue_team_data.update(get_team_stats(blue_stats, team))\n",
    "\n",
    "# KDA of each player\n",
    "player_idx = 0\n",
    "dct_players = {}\n",
    "lst_player_kda_keys = ['player', 'kda', 'csM', 'dpM','wpM']\n",
    "\n",
    "def get_player_kda(row):\n",
    "    global player_idx\n",
    "    for idx, i in enumerate(row):\n",
    "        dct_players[f\"{lst_player_kda_keys[idx]}_{player_idx}_{team}\"] = i\n",
    "    player_idx += 1\n",
    "\n",
    "get_team_kda(\"blue\").apply(lambda x: get_player_kda(x), axis=1)\n",
    "blue_team_data.update(dct_players)\n",
    "\n",
    "blue_team_data"
   ]
  },
  {
   "attachments": {},
   "cell_type": "markdown",
   "metadata": {},
   "source": [
    "### Join data Red Team"
   ]
  },
  {
   "cell_type": "code",
   "execution_count": 18,
   "metadata": {},
   "outputs": [
    {
     "data": {
      "text/plain": [
       "{'team_red': 'KaBuM! e-Sports',\n",
       " 'result_red': 'WIN',\n",
       " 'ban_0_red': 'Ryze',\n",
       " 'ban_1_red': 'Lucian',\n",
       " 'ban_2_red': 'Azir',\n",
       " 'ban_3_red': 'KSante',\n",
       " 'ban_4_red': 'Kassadin',\n",
       " 'pick_0_red': 'Jax',\n",
       " 'pick_1_red': 'Sejuani',\n",
       " 'pick_2_red': 'TwistedFate',\n",
       " 'pick_3_red': 'Sivir',\n",
       " 'pick_4_red': 'Yuumi',\n",
       " 'kills_red': 19,\n",
       " 'towers_red': 10,\n",
       " 'dragons_red': 2,\n",
       " 'barons_red': 1,\n",
       " 'player_0_red': 'Lonely',\n",
       " 'kda_0_red': 7.0,\n",
       " 'csM_0_red': '7.0',\n",
       " 'dpM_0_red': '779',\n",
       " 'wpM_0_red': '0.57',\n",
       " 'player_1_red': 'scary',\n",
       " 'kda_1_red': 15.0,\n",
       " 'csM_1_red': '4.9',\n",
       " 'dpM_1_red': '383',\n",
       " 'wpM_1_red': '0.26',\n",
       " 'player_2_red': 'Yuri',\n",
       " 'kda_2_red': 4.0,\n",
       " 'csM_2_red': '7.3',\n",
       " 'dpM_2_red': '631',\n",
       " 'wpM_2_red': '0.23',\n",
       " 'player_3_red': 'DudsTheBoy',\n",
       " 'kda_3_red': 3.5,\n",
       " 'csM_3_red': '9.5',\n",
       " 'dpM_3_red': '866',\n",
       " 'wpM_3_red': '0.43',\n",
       " 'player_4_red': 'Scuro',\n",
       " 'kda_4_red': 16.0,\n",
       " 'csM_4_red': '0.1',\n",
       " 'dpM_4_red': '279',\n",
       " 'wpM_4_red': '1.54'}"
      ]
     },
     "execution_count": 18,
     "metadata": {},
     "output_type": "execute_result"
    }
   ],
   "source": [
    "# dict with red team data\n",
    "red_team_data = {}\n",
    "\n",
    "team = \"red\"\n",
    "\n",
    "# team name\n",
    "red_team_data[f\"team_{team}\"] = red_team\n",
    "\n",
    "# info. if team win or lost\n",
    "red_team_data[f\"result_{team}\"] = red_result\n",
    "\n",
    "# bans of team\n",
    "for idx, ban in enumerate(red_banned):\n",
    "    red_team_data[f\"ban_{idx}_{team}\"] = ban\n",
    "\n",
    "# picks of team\n",
    "for idx, pick in enumerate(red_piked):\n",
    "    red_team_data[f\"pick_{idx}_{team}\"] = pick\n",
    "\n",
    "# kills, towers, drgans and barons\n",
    "red_team_data.update(get_team_stats(red_stats, team))\n",
    "\n",
    "# KDA of each player\n",
    "player_idx = 0\n",
    "dct_players = {}\n",
    "lst_player_kda_keys = ['player', 'kda', 'csM', 'dpM','wpM']\n",
    "\n",
    "def get_player_kda(row):\n",
    "    global player_idx\n",
    "    for idx, i in enumerate(row):\n",
    "        dct_players[f\"{lst_player_kda_keys[idx]}_{player_idx}_{team}\"] = i\n",
    "    player_idx += 1\n",
    "\n",
    "get_team_kda(\"red\").apply(lambda x: get_player_kda(x), axis=1)\n",
    "red_team_data.update(dct_players)\n",
    "\n",
    "red_team_data"
   ]
  },
  {
   "cell_type": "code",
   "execution_count": null,
   "metadata": {},
   "outputs": [],
   "source": []
  },
  {
   "attachments": {},
   "cell_type": "markdown",
   "metadata": {},
   "source": [
    "### Match all data"
   ]
  },
  {
   "cell_type": "code",
   "execution_count": 19,
   "metadata": {},
   "outputs": [],
   "source": [
    "dct_teams = {**red_team_data, **blue_team_data}\n",
    "dct_teams[\"match_duration\"] = match_time"
   ]
  },
  {
   "cell_type": "code",
   "execution_count": 20,
   "metadata": {},
   "outputs": [],
   "source": [
    "# Dataframe with columns of data in dict\n",
    "df_match = pd.DataFrame(columns=dct_teams.keys())"
   ]
  },
  {
   "cell_type": "code",
   "execution_count": 21,
   "metadata": {},
   "outputs": [],
   "source": [
    "# Concat the match data to df with all data\n",
    "df_match = pd.concat([df_match, pd.DataFrame(dct_teams, index=[0])])"
   ]
  },
  {
   "cell_type": "code",
   "execution_count": 22,
   "metadata": {},
   "outputs": [
    {
     "data": {
      "text/html": [
       "<div>\n",
       "<style scoped>\n",
       "    .dataframe tbody tr th:only-of-type {\n",
       "        vertical-align: middle;\n",
       "    }\n",
       "\n",
       "    .dataframe tbody tr th {\n",
       "        vertical-align: top;\n",
       "    }\n",
       "\n",
       "    .dataframe thead th {\n",
       "        text-align: right;\n",
       "    }\n",
       "</style>\n",
       "<table border=\"1\" class=\"dataframe\">\n",
       "  <thead>\n",
       "    <tr style=\"text-align: right;\">\n",
       "      <th></th>\n",
       "      <th>team_red</th>\n",
       "      <th>result_red</th>\n",
       "      <th>ban_0_red</th>\n",
       "      <th>ban_1_red</th>\n",
       "      <th>ban_2_red</th>\n",
       "      <th>ban_3_red</th>\n",
       "      <th>ban_4_red</th>\n",
       "      <th>pick_0_red</th>\n",
       "      <th>pick_1_red</th>\n",
       "      <th>pick_2_red</th>\n",
       "      <th>...</th>\n",
       "      <th>kda_3_blue</th>\n",
       "      <th>csM_3_blue</th>\n",
       "      <th>dpM_3_blue</th>\n",
       "      <th>wpM_3_blue</th>\n",
       "      <th>player_4_blue</th>\n",
       "      <th>kda_4_blue</th>\n",
       "      <th>csM_4_blue</th>\n",
       "      <th>dpM_4_blue</th>\n",
       "      <th>wpM_4_blue</th>\n",
       "      <th>match_duration</th>\n",
       "    </tr>\n",
       "  </thead>\n",
       "  <tbody>\n",
       "    <tr>\n",
       "      <th>0</th>\n",
       "      <td>KaBuM! e-Sports</td>\n",
       "      <td>WIN</td>\n",
       "      <td>Ryze</td>\n",
       "      <td>Lucian</td>\n",
       "      <td>Azir</td>\n",
       "      <td>KSante</td>\n",
       "      <td>Kassadin</td>\n",
       "      <td>Jax</td>\n",
       "      <td>Sejuani</td>\n",
       "      <td>TwistedFate</td>\n",
       "      <td>...</td>\n",
       "      <td>1.33</td>\n",
       "      <td>9.6</td>\n",
       "      <td>937</td>\n",
       "      <td>0.34</td>\n",
       "      <td>JoJo</td>\n",
       "      <td>3.0</td>\n",
       "      <td>0.5</td>\n",
       "      <td>197</td>\n",
       "      <td>1.59</td>\n",
       "      <td>00:35:09</td>\n",
       "    </tr>\n",
       "  </tbody>\n",
       "</table>\n",
       "<p>1 rows × 83 columns</p>\n",
       "</div>"
      ],
      "text/plain": [
       "          team_red result_red ban_0_red ban_1_red ban_2_red ban_3_red  \\\n",
       "0  KaBuM! e-Sports        WIN      Ryze    Lucian      Azir    KSante   \n",
       "\n",
       "  ban_4_red pick_0_red pick_1_red   pick_2_red  ... kda_3_blue csM_3_blue  \\\n",
       "0  Kassadin        Jax    Sejuani  TwistedFate  ...       1.33        9.6   \n",
       "\n",
       "  dpM_3_blue wpM_3_blue player_4_blue kda_4_blue csM_4_blue  dpM_4_blue  \\\n",
       "0        937       0.34          JoJo        3.0        0.5         197   \n",
       "\n",
       "  wpM_4_blue match_duration  \n",
       "0       1.59       00:35:09  \n",
       "\n",
       "[1 rows x 83 columns]"
      ]
     },
     "execution_count": 22,
     "metadata": {},
     "output_type": "execute_result"
    }
   ],
   "source": [
    "df_match"
   ]
  },
  {
   "cell_type": "code",
   "execution_count": 23,
   "metadata": {},
   "outputs": [],
   "source": [
    "# Save .csv with data of all match\n",
    "df_match.to_csv(\"data/matchs.csv\")"
   ]
  },
  {
   "cell_type": "code",
   "execution_count": 27,
   "metadata": {},
   "outputs": [],
   "source": []
  }
 ],
 "metadata": {
  "kernelspec": {
   "display_name": "colorization",
   "language": "python",
   "name": "python3"
  },
  "language_info": {
   "codemirror_mode": {
    "name": "ipython",
    "version": 3
   },
   "file_extension": ".py",
   "mimetype": "text/x-python",
   "name": "python",
   "nbconvert_exporter": "python",
   "pygments_lexer": "ipython3",
   "version": "3.10.8"
  },
  "orig_nbformat": 4,
  "vscode": {
   "interpreter": {
    "hash": "d41b961cbd26925116fb03f693a2d8932e2e5b415613185632ea88c0bffdc3ec"
   }
  }
 },
 "nbformat": 4,
 "nbformat_minor": 2
}
