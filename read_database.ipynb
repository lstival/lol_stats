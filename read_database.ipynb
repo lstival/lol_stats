{
 "cells": [
  {
   "cell_type": "code",
   "execution_count": 1,
   "metadata": {},
   "outputs": [],
   "source": [
    "import pandas as pd\n",
    "import numpy as npb\n",
    "import json"
   ]
  },
  {
   "cell_type": "code",
   "execution_count": 2,
   "metadata": {},
   "outputs": [],
   "source": [
    "classe = \"classe\"\n",
    "value = \"value\"\n",
    "name=\"name\""
   ]
  },
  {
   "cell_type": "code",
   "execution_count": 3,
   "metadata": {},
   "outputs": [
    {
     "data": {
      "text/plain": [
       "{'classe': 'player', 'value': 'p_3580', 'name': '2Cups - MK'}"
      ]
     },
     "execution_count": 3,
     "metadata": {},
     "output_type": "execute_result"
    }
   ],
   "source": [
    "aa = {classe:'player',value: 'p_431',name: '007x - TH'\n",
    "},\n",
    "{classe:'player',value: 'p_4768',name: '0909 - CN'\n",
    "},\n",
    "{classe:'player',value: 'p_1505',name: '0bsess - DE'\n",
    "},\n",
    "{classe:'player',value: 'p_3845',name: '113 - TR'\n",
    "},\n",
    "{classe:'player',value: 'p_4804',name: '150 - TR'\n",
    "},\n",
    "{classe:'player',value: 'p_1516',name: '1an - MX'\n",
    "},\n",
    "{classe:'player',value: 'p_2861',name: '1Ground - VN'\n",
    "},\n",
    "{classe:'player',value: 'p_3578',name: '1roNN - RS'\n",
    "},\n",
    "{classe:'player',value: 'p_4809',name: '1SSUE - TW'\n",
    "},\n",
    "{classe:'player',value: 'p_2001',name: '2188 - TW'\n",
    "},\n",
    "{classe:'player',value: 'p_3044',name: '24 - TR'\n",
    "},\n",
    "{classe:'player',value: 'p_3010',name: '2Axes - RO'\n",
    "},\n",
    "{classe:'player',value: 'p_3580',name: '2Cups - MK'\n",
    "}"
   ]
  },
  {
   "cell_type": "code",
   "execution_count": null,
   "metadata": {},
   "outputs": [],
   "source": []
  }
 ],
 "metadata": {
  "kernelspec": {
   "display_name": "Python 3.10.6 ('lol')",
   "language": "python",
   "name": "python3"
  },
  "language_info": {
   "codemirror_mode": {
    "name": "ipython",
    "version": 3
   },
   "file_extension": ".py",
   "mimetype": "text/x-python",
   "name": "python",
   "nbconvert_exporter": "python",
   "pygments_lexer": "ipython3",
   "version": "3.10.6"
  },
  "orig_nbformat": 4,
  "vscode": {
   "interpreter": {
    "hash": "10c87da467fcbb63cac37fd56cb93e5bc20dee0ff3d3dc9bb44db59686591e1a"
   }
  }
 },
 "nbformat": 4,
 "nbformat_minor": 2
}
